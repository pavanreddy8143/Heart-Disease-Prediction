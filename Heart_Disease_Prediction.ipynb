{
  "nbformat": 4,
  "nbformat_minor": 0,
  "metadata": {
    "colab": {
      "name": "Heart-Disease-Prediction.ipynb",
      "provenance": [],
      "authorship_tag": "ABX9TyMsibq1yPpWZxCkGUA7ZaMb",
      "include_colab_link": true
    },
    "kernelspec": {
      "name": "python3",
      "display_name": "Python 3"
    },
    "language_info": {
      "name": "python"
    }
  },
  "cells": [
    {
      "cell_type": "markdown",
      "metadata": {
        "id": "view-in-github",
        "colab_type": "text"
      },
      "source": [
        "<a href=\"https://colab.research.google.com/github/pavanreddy8143/Predicting-Presence-of-Heart-Diseases-using-Machine-learning/blob/main/Heart_Disease_Prediction.ipynb\" target=\"_parent\"><img src=\"https://colab.research.google.com/assets/colab-badge.svg\" alt=\"Open In Colab\"/></a>"
      ]
    },
    {
      "cell_type": "markdown",
      "metadata": {
        "id": "8iWz2oF-O_JZ"
      },
      "source": [
        "# **Heart-Disease-Prediction**\n",
        "In this machine learning project, I have collected the dataset from Kaggle    (https://www.kaggle.com/ronitf/heart-disease-uci) and I will be using Machine Learning to make predictions on whether a person is suffering from Heart Disease or not."
      ]
    },
    {
      "cell_type": "markdown",
      "metadata": {
        "id": "LTD1hSDwPwqH"
      },
      "source": [
        "### **Import libraries**\n",
        "Let's first import all the necessary libraries. \n",
        "I'll use numpy and pandas to start with. For visualization, I will use pyplot subpackage of matplotlib, use rcParams to add styling to the plots and rainbow for colors. For implementing Machine Learning models and processing of data, I will use the sklearn library."
      ]
    },
    {
      "cell_type": "code",
      "metadata": {
        "id": "x-DKvSXDQBK5"
      },
      "source": [
        "import numpy as np\n",
        "import pandas as pd\n",
        "import matplotlib.pyplot as plt\n",
        "from matplotlib import rcParams\n",
        "from matplotlib.cm import rainbow\n",
        "%matplotlib inline\n",
        "import warnings\n",
        "warnings.filterwarnings('ignore')"
      ],
      "execution_count": 1,
      "outputs": []
    },
    {
      "cell_type": "markdown",
      "metadata": {
        "id": "YBDdlKTqQM7h"
      },
      "source": [
        "For processing the data, I'll import a few libraries. To split the available dataset for testing and training, I'll use the train_test_split method. To scale the features, I am using StandardScaler."
      ]
    },
    {
      "cell_type": "code",
      "metadata": {
        "id": "yccV_bpIQPoZ"
      },
      "source": [
        "from sklearn.model_selection import train_test_split\n",
        "from sklearn.preprocessing import StandardScaler"
      ],
      "execution_count": 2,
      "outputs": []
    },
    {
      "cell_type": "markdown",
      "metadata": {
        "id": "k7Aju7HTQinZ"
      },
      "source": [
        "Now I'll import all the Machine Learning algorithms\n",
        "\n",
        "1.   K Neighbors Classifier\n",
        "2.   Support Vector Classifier\n",
        "3.   Decision Tree Classifier\n",
        "4.   Random Forest Classifier\n",
        "\n",
        "\n",
        "\n"
      ]
    },
    {
      "cell_type": "code",
      "metadata": {
        "id": "PZuzmVVmQ6HP"
      },
      "source": [
        "from sklearn.neighbors import KNeighborsClassifier\n",
        "from sklearn.svm import SVC\n",
        "from sklearn.tree import DecisionTreeClassifier\n",
        "from sklearn.ensemble import RandomForestClassifier"
      ],
      "execution_count": 3,
      "outputs": []
    },
    {
      "cell_type": "markdown",
      "metadata": {
        "id": "sSjZSWAkRKbO"
      },
      "source": [
        "### **Import dataset**"
      ]
    },
    {
      "cell_type": "code",
      "metadata": {
        "id": "csOhHTD9RX1j"
      },
      "source": [
        ""
      ],
      "execution_count": null,
      "outputs": []
    }
  ]
}